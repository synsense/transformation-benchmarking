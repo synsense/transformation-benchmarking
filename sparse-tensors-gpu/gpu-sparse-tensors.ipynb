{
 "cells": [
  {
   "cell_type": "code",
   "execution_count": null,
   "metadata": {},
   "outputs": [],
   "source": [
    "import torch\n",
    "import torch.nn as nn\n",
    "import tonic\n",
    "from tonic import transforms\n",
    "import os\n",
    "import numpy as np\n",
    "from tqdm import tqdm"
   ]
  },
  {
   "cell_type": "markdown",
   "metadata": {},
   "source": [
    "## Load dataset\n",
    "We use the trainset of Spiking Speech Commands (SSC) and cut it to 250 time steps and 100 channels."
   ]
  },
  {
   "cell_type": "code",
   "execution_count": null,
   "metadata": {},
   "outputs": [],
   "source": [
    "dt = 4000\n",
    "encoding_dim = 100\n",
    "\n",
    "class ToRaster():\n",
    "    def __init__(self, encoding_dim):\n",
    "        self.encoding_dim = encoding_dim\n",
    "\n",
    "    def __call__(self, events):\n",
    "        # tensor has dimensions (time_steps, encoding_dim)\n",
    "        tensor = np.zeros((events[\"t\"].max()+1, self.encoding_dim), dtype=int)\n",
    "        np.add.at(tensor, (events[\"t\"], events[\"x\"]), 1)\n",
    "        return tensor[:250,:]\n",
    "\n",
    "transform = transforms.Compose([\n",
    "    transforms.Downsample(time_factor=1/dt, spatial_factor=encoding_dim/700),\n",
    "    ToRaster(encoding_dim),\n",
    "])"
   ]
  },
  {
   "cell_type": "code",
   "execution_count": null,
   "metadata": {},
   "outputs": [],
   "source": [
    "dataset = tonic.datasets.SSC('./data', transform=transform)\n",
    "print(f\"This dataset has {len(dataset)} samples.\")"
   ]
  },
  {
   "cell_type": "markdown",
   "metadata": {},
   "source": [
    "Create a disk-cached dataset, because the dataset is too large to fit in memory and we don't want to apply the ToRaster transform (see above) at every epoch."
   ]
  },
  {
   "cell_type": "code",
   "execution_count": null,
   "metadata": {},
   "outputs": [],
   "source": [
    "batch_size = 128\n",
    "\n",
    "cached_dataset = tonic.DiskCachedDataset(\n",
    "            dataset=dataset,\n",
    "            cache_path=os.path.join(f\"cache/SSC/train/{encoding_dim}/{dt}\"),\n",
    "        )\n",
    "cached_dataloader = torch.utils.data.DataLoader(\n",
    "    cached_dataset, \n",
    "    batch_size=batch_size, \n",
    "    shuffle=True, \n",
    "    num_workers=4, \n",
    "    collate_fn=tonic.collation.PadTensors(batch_first=True), \n",
    "    drop_last=True\n",
    ")"
   ]
  },
  {
   "cell_type": "code",
   "execution_count": null,
   "metadata": {},
   "outputs": [],
   "source": [
    "memory_dataset = tonic.MemoryCachedDataset(\n",
    "            dataset=dataset,\n",
    "        )\n",
    "memory_dataloader = torch.utils.data.DataLoader(\n",
    "    memory_dataset, \n",
    "    batch_size=batch_size, \n",
    "    shuffle=True, \n",
    "    num_workers=4, \n",
    "    collate_fn=tonic.collation.PadTensors(batch_first=True), \n",
    "    drop_last=True\n",
    ")"
   ]
  },
  {
   "cell_type": "markdown",
   "metadata": {},
   "source": [
    "We define a dummy model here."
   ]
  },
  {
   "cell_type": "code",
   "execution_count": null,
   "metadata": {},
   "outputs": [],
   "source": [
    "network = nn.Sequential(\n",
    "    torch.nn.Linear(100, 100),\n",
    "    torch.nn.Linear(100, 100),\n",
    "    torch.nn.Linear(100, 100),\n",
    "    torch.nn.Linear(100, 100),\n",
    "    torch.nn.Linear(100, 10),\n",
    ").cuda()"
   ]
  },
  {
   "cell_type": "markdown",
   "metadata": {},
   "source": [
    "Iterating over a memory-cached dataset takes about 20GB of RAM so beware!"
   ]
  },
  {
   "cell_type": "code",
   "execution_count": null,
   "metadata": {},
   "outputs": [],
   "source": [
    "# for data, target in tqdm(memory_dataloader):\n",
    "#     output = network(data.cuda())\n",
    "#     output.sum().backward()\n",
    "#     target = target.cuda()"
   ]
  },
  {
   "cell_type": "markdown",
   "metadata": {},
   "source": [
    "If we iterate over the cached dataset that sits on disk, this takes us a while to go through all the data. Run at least twice to generate all the samples. Takes about 1.4GB of disk space (the tensors are compressed)"
   ]
  },
  {
   "cell_type": "code",
   "execution_count": null,
   "metadata": {},
   "outputs": [],
   "source": [
    "for data, target in tqdm(cached_dataloader):\n",
    "    output = network(data.cuda())\n",
    "    output.sum().backward()\n",
    "    target = target.cuda()"
   ]
  },
  {
   "cell_type": "markdown",
   "metadata": {},
   "source": [
    "## Generate sparse tensor dataset that sits on the GPU\n",
    "\n",
    "This will take about 7-8 GB of GPU memory! We load the actual batches here from disk and convert them to sparse tensors on the GPU. We store them in a big list which we'll use as a new dataset."
   ]
  },
  {
   "cell_type": "code",
   "execution_count": null,
   "metadata": {},
   "outputs": [],
   "source": [
    "data_list = []\n",
    "target_list = []\n",
    "for data, targets in tqdm(cached_dataloader):\n",
    "    data_list.append(data.to_sparse().coalesce().cuda())\n",
    "    target_list.append(targets.byte().cuda())\n",
    "\n",
    "sparse_tensor_dataset = list(zip(data_list, target_list))"
   ]
  },
  {
   "cell_type": "markdown",
   "metadata": {},
   "source": [
    "Now let's see how fast we can do forward and backward passes without any host memory or disk involved... The sparse tensors are inflated (via to_dense()) directly on the GPU"
   ]
  },
  {
   "cell_type": "code",
   "execution_count": null,
   "metadata": {},
   "outputs": [],
   "source": [
    "for data, target in tqdm(sparse_tensor_dataset):\n",
    "    output = network(data.to_dense())\n",
    "    output.sum().backward()"
   ]
  },
  {
   "cell_type": "code",
   "execution_count": null,
   "metadata": {},
   "outputs": [],
   "source": []
  }
 ],
 "metadata": {
  "interpreter": {
   "hash": "caf264bf03997fa53b380c84044763293a7a6f8ebb5555ee5243fd4d1f495be6"
  },
  "kernelspec": {
   "display_name": "Python 3.8.8 ('base')",
   "language": "python",
   "name": "python3"
  },
  "language_info": {
   "codemirror_mode": {
    "name": "ipython",
    "version": 3
   },
   "file_extension": ".py",
   "mimetype": "text/x-python",
   "name": "python",
   "nbconvert_exporter": "python",
   "pygments_lexer": "ipython3",
   "version": "3.8.13"
  },
  "orig_nbformat": 4
 },
 "nbformat": 4,
 "nbformat_minor": 2
}
