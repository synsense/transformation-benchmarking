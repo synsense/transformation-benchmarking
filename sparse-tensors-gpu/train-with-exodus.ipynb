{
 "cells": [
  {
   "cell_type": "code",
   "execution_count": null,
   "metadata": {},
   "outputs": [],
   "source": [
    "import torch\n",
    "import torch.nn as nn\n",
    "import tonic\n",
    "from tonic import datasets, transforms\n",
    "import os\n",
    "import numpy as np\n",
    "from tqdm.auto import tqdm\n",
    "import sinabs.exodus.layers as sel\n",
    "import sinabs\n",
    "import sinabs.layers as sl\n",
    "import sinabs.activation as sa"
   ]
  },
  {
   "cell_type": "code",
   "execution_count": null,
   "metadata": {},
   "outputs": [],
   "source": [
    "dt = 4000\n",
    "encoding_dim = 100\n",
    "\n",
    "dense_transform = transforms.Compose([\n",
    "    transforms.Downsample(spatial_factor=encoding_dim/700),\n",
    "    transforms.CropTime(max=1e6),\n",
    "    transforms.ToFrame(sensor_size=(encoding_dim, 1, 1), time_window=dt, include_incomplete=True),\n",
    "])\n",
    "\n",
    "sparse_transform = transforms.Compose([\n",
    "    transforms.Downsample(spatial_factor=encoding_dim/700),\n",
    "    transforms.CropTime(max=1e6),\n",
    "    transforms.ToSparseTensor(sensor_size=(encoding_dim, 1, 1), time_window=dt, include_incomplete=True),\n",
    "])"
   ]
  },
  {
   "cell_type": "code",
   "execution_count": null,
   "metadata": {},
   "outputs": [],
   "source": [
    "dense_dataset = tonic.datasets.SSC('./data', transform=dense_transform)\n",
    "sparse_dataset = tonic.datasets.SSC('./data', transform=sparse_transform, target_transform=torch.tensor)\n",
    "print(f\"This dataset has {len(sparse_dataset)} samples.\")"
   ]
  },
  {
   "cell_type": "code",
   "execution_count": null,
   "metadata": {},
   "outputs": [],
   "source": [
    "dataloader = torch.utils.data.DataLoader(\n",
    "    dense_dataset, \n",
    "    batch_size=64, \n",
    "    shuffle=True, \n",
    "    num_workers=8, \n",
    "    collate_fn=tonic.collation.PadTensors(batch_first=True), \n",
    "    drop_last=True,\n",
    "    pin_memory=True,\n",
    ")"
   ]
  },
  {
   "cell_type": "code",
   "execution_count": null,
   "metadata": {},
   "outputs": [],
   "source": [
    "batch_size = 64\n",
    "\n",
    "disk_cached_dataset = tonic.DiskCachedDataset(\n",
    "            dataset=dense_dataset,\n",
    "            cache_path=os.path.join(f\"cache/{dense_dataset.__class__.__name__}/train/{encoding_dim}/{dt}\"),\n",
    "        )\n",
    "disk_cached_dataloader = torch.utils.data.DataLoader(\n",
    "    disk_cached_dataset, \n",
    "    batch_size=batch_size, \n",
    "    shuffle=True, \n",
    "    num_workers=4, \n",
    "    collate_fn=tonic.collation.PadTensors(batch_first=True), \n",
    "    drop_last=True\n",
    ")\n",
    "\n",
    "# sparse_dataloader = torch.utils.data.DataLoader(\n",
    "#     sparse_dataset,\n",
    "#     num_workers=4,\n",
    "#     batch_size=None,\n",
    "# )\n",
    "cpu_cached_dataset = tonic.MemoryCachedDataset(\n",
    "    dataset=sparse_dataset,\n",
    ")\n",
    "cpu_cached_dataloader = torch.utils.data.DataLoader(\n",
    "    cpu_cached_dataset,\n",
    "    batch_size=batch_size,\n",
    "    collate_fn=tonic.collation.PadTensors(batch_first=True),\n",
    "    # num_workers=4, \n",
    "    drop_last=True,\n",
    "    shuffle=True,\n",
    ")\n",
    "\n",
    "gpu_cached_dataset = tonic.MemoryCachedDataset(\n",
    "    dataset=sparse_dataset,\n",
    "    device=\"cuda\",\n",
    "    transform=lambda x: x.to_dense(),\n",
    ")\n",
    "gpu_cached_dataloader = torch.utils.data.DataLoader(\n",
    "    gpu_cached_dataset,\n",
    "    batch_size=batch_size,\n",
    "    collate_fn=tonic.collation.PadTensors(batch_first=True),\n",
    "    drop_last=True,\n",
    "    shuffle=True,\n",
    ")"
   ]
  },
  {
   "cell_type": "code",
   "execution_count": null,
   "metadata": {},
   "outputs": [],
   "source": [
    "class SNN(nn.Sequential):\n",
    "    def __init__(self, backend='exodus'):\n",
    "        hidden_dim = 128\n",
    "\n",
    "        super().__init__(\n",
    "            nn.Linear(100, hidden_dim),\n",
    "            sel.IAF() if backend=='exodus' else sl.IAF(),\n",
    "            nn.Linear(hidden_dim, hidden_dim),\n",
    "            sel.IAF() if backend=='exodus' else sl.IAF(),\n",
    "            nn.Linear(hidden_dim, hidden_dim),\n",
    "            sel.IAF() if backend=='exodus' else sl.IAF(),\n",
    "            nn.Linear(hidden_dim, 35),\n",
    "        )\n",
    "\n",
    "    def reset_states(self):\n",
    "        for layer in self.children():\n",
    "            if isinstance(layer, sl.StatefulLayer):\n",
    "                layer.reset_states()\n",
    "\n",
    "exodus_model = SNN().cuda()\n",
    "# sinabs_model = SNN(backend='sinabs').cuda()\n",
    "model = exodus_model\n"
   ]
  },
  {
   "cell_type": "code",
   "execution_count": null,
   "metadata": {},
   "outputs": [],
   "source": [
    "for data, target in tqdm(disk_cached_dataloader):\n",
    "    data = data.cuda()\n",
    "    target = target.cuda()\n",
    "    model.reset_states()\n",
    "    model.zero_grad()\n",
    "    output = model(data)\n",
    "    output.sum().backward()"
   ]
  },
  {
   "cell_type": "code",
   "execution_count": null,
   "metadata": {},
   "outputs": [],
   "source": [
    "for data, target in tqdm(dataloader):\n",
    "    data = data.cuda()\n",
    "    target = target.cuda()\n",
    "    model.reset_states()\n",
    "    model.zero_grad()\n",
    "    output = model(data)\n",
    "    output.sum().backward()"
   ]
  },
  {
   "cell_type": "code",
   "execution_count": null,
   "metadata": {},
   "outputs": [],
   "source": [
    "for data, target in tqdm(cpu_cached_dataloader):\n",
    "    data = data.cuda()\n",
    "    target = target.cuda()\n",
    "    data = data.to_dense().float()\n",
    "    model.reset_states()\n",
    "    model.zero_grad()\n",
    "    output = model(data)\n",
    "    output.sum().backward()"
   ]
  },
  {
   "cell_type": "code",
   "execution_count": null,
   "metadata": {},
   "outputs": [],
   "source": [
    "for data, target in tqdm(gpu_cached_dataloader):\n",
    "    model.reset_states()\n",
    "    model.zero_grad()\n",
    "    output = model(data)\n",
    "    output.sum().backward()"
   ]
  },
  {
   "cell_type": "code",
   "execution_count": null,
   "metadata": {},
   "outputs": [],
   "source": []
  }
 ],
 "metadata": {
  "interpreter": {
   "hash": "e6cb2531ff3209080f8ff5f4f1b83a3f6fd522559ade981afeb04664418b3902"
  },
  "kernelspec": {
   "display_name": "Python 3.9.7 ('slayer-comparison')",
   "language": "python",
   "name": "python3"
  },
  "language_info": {
   "codemirror_mode": {
    "name": "ipython",
    "version": 3
   },
   "file_extension": ".py",
   "mimetype": "text/x-python",
   "name": "python",
   "nbconvert_exporter": "python",
   "pygments_lexer": "ipython3",
   "version": "3.9.7"
  },
  "orig_nbformat": 4
 },
 "nbformat": 4,
 "nbformat_minor": 2
}
