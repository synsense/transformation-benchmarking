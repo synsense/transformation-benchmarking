{
 "cells": [
  {
   "cell_type": "code",
   "execution_count": null,
   "metadata": {},
   "outputs": [],
   "source": [
    "import torch\n",
    "import torch.nn as nn\n",
    "import tonic\n",
    "from tonic import datasets, transforms\n",
    "import os\n",
    "import numpy as np\n",
    "from tqdm.auto import tqdm\n",
    "import sinabs.exodus.layers as sel\n",
    "import sinabs\n",
    "import sinabs.layers as sl\n",
    "import sinabs.activation as sa"
   ]
  },
  {
   "cell_type": "code",
   "execution_count": null,
   "metadata": {},
   "outputs": [],
   "source": [
    "dt = 4000\n",
    "encoding_dim = 100\n",
    "\n",
    "class ToRaster():\n",
    "    def __init__(self, encoding_dim):\n",
    "        self.encoding_dim = encoding_dim\n",
    "\n",
    "    def __call__(self, events):\n",
    "        # tensor has dimensions (time_steps, encoding_dim)\n",
    "        tensor = np.zeros((events[\"t\"].max()+1, self.encoding_dim), dtype=int)\n",
    "        np.add.at(tensor, (events[\"t\"], events[\"x\"]), 1)\n",
    "        return tensor[:250,:]\n",
    "\n",
    "transform = transforms.Compose([\n",
    "    transforms.Downsample(time_factor=1/dt, spatial_factor=encoding_dim/700),\n",
    "    ToRaster(encoding_dim),\n",
    "])"
   ]
  },
  {
   "cell_type": "code",
   "execution_count": null,
   "metadata": {},
   "outputs": [],
   "source": [
    "dataset = tonic.datasets.SSC('./data', transform=transform)\n",
    "print(f\"This dataset has {len(dataset)} samples.\")"
   ]
  },
  {
   "cell_type": "code",
   "execution_count": null,
   "metadata": {},
   "outputs": [],
   "source": [
    "batch_size = 128\n",
    "\n",
    "cached_dataset = tonic.DiskCachedDataset(\n",
    "            dataset=dataset,\n",
    "            cache_path=os.path.join(f\"cache/ssc/train/{encoding_dim}/{dt}\"),\n",
    "        )\n",
    "cached_dataloader = torch.utils.data.DataLoader(\n",
    "    cached_dataset, \n",
    "    batch_size=batch_size, \n",
    "    shuffle=True, \n",
    "    num_workers=4, \n",
    "    collate_fn=tonic.collation.PadTensors(batch_first=True), \n",
    "    drop_last=True\n",
    ")"
   ]
  },
  {
   "cell_type": "code",
   "execution_count": null,
   "metadata": {},
   "outputs": [],
   "source": [
    "data_list = []\n",
    "target_list = []\n",
    "for data, targets in tqdm(cached_dataloader):\n",
    "    data_list.append(data.to_sparse().coalesce().cuda())\n",
    "    target_list.append(targets.byte().cuda())\n",
    "\n",
    "sparse_tensor_dataset = list(zip(data_list, target_list))"
   ]
  },
  {
   "cell_type": "code",
   "execution_count": null,
   "metadata": {},
   "outputs": [],
   "source": [
    "for data, target in tqdm(sparse_tensor_dataset):\n",
    "    data.to_dense()\n"
   ]
  },
  {
   "cell_type": "code",
   "execution_count": null,
   "metadata": {},
   "outputs": [],
   "source": [
    "kw_args = dict(\n",
    "            spike_fn=sa.SingleSpike,\n",
    "            reset_fn=sa.MembraneSubtract(),\n",
    "            surrogate_grad_fn=sa.SingleExponential(),\n",
    "        )\n",
    "\n",
    "hidden_dim = 128\n",
    "\n",
    "model = nn.Sequential(\n",
    "    nn.Linear(100, hidden_dim),\n",
    "    sel.IAF(**kw_args),\n",
    "    nn.Linear(hidden_dim, hidden_dim),\n",
    "    sel.IAF(**kw_args),\n",
    "    nn.Linear(hidden_dim, hidden_dim),\n",
    "    sel.IAF(**kw_args),\n",
    "    nn.Linear(hidden_dim, 35),\n",
    ").cuda()"
   ]
  },
  {
   "cell_type": "code",
   "execution_count": null,
   "metadata": {},
   "outputs": [],
   "source": [
    "dummy_model = nn.Sequential(\n",
    "    torch.nn.Linear(100, hidden_dim),\n",
    "    torch.nn.Linear(hidden_dim, hidden_dim),\n",
    "    torch.nn.Linear(hidden_dim, hidden_dim),\n",
    "    torch.nn.Linear(hidden_dim, 100),\n",
    ").cuda()"
   ]
  },
  {
   "cell_type": "code",
   "execution_count": null,
   "metadata": {},
   "outputs": [],
   "source": [
    "def reset_states(model):\n",
    "    for layer in model.children():\n",
    "        if isinstance(layer, sl.StatefulLayer):\n",
    "            layer.reset_states()"
   ]
  },
  {
   "cell_type": "code",
   "execution_count": null,
   "metadata": {},
   "outputs": [],
   "source": [
    "data.shape"
   ]
  },
  {
   "cell_type": "code",
   "execution_count": null,
   "metadata": {},
   "outputs": [],
   "source": [
    "for data, target in tqdm(sparse_tensor_dataset):\n",
    "    dense = data.to_dense()\n",
    "    dummy_model.zero_grad()\n",
    "    output = dense[:, 0]\n",
    "    for step in range(dense.shape[1]):\n",
    "        output = dummy_model(dense[:, step] + output)\n",
    "    output.sum().backward()"
   ]
  },
  {
   "cell_type": "code",
   "execution_count": null,
   "metadata": {},
   "outputs": [],
   "source": [
    "for data, target in tqdm(sparse_tensor_dataset):\n",
    "    reset_states(model)\n",
    "    dense = data.to_dense()\n",
    "    model.zero_grad()\n",
    "    output = model(dense)\n",
    "    output.sum().backward()"
   ]
  },
  {
   "cell_type": "code",
   "execution_count": null,
   "metadata": {},
   "outputs": [],
   "source": []
  }
 ],
 "metadata": {
  "interpreter": {
   "hash": "e6cb2531ff3209080f8ff5f4f1b83a3f6fd522559ade981afeb04664418b3902"
  },
  "kernelspec": {
   "display_name": "Python 3.9.7 ('slayer-comparison')",
   "language": "python",
   "name": "python3"
  },
  "language_info": {
   "codemirror_mode": {
    "name": "ipython",
    "version": 3
   },
   "file_extension": ".py",
   "mimetype": "text/x-python",
   "name": "python",
   "nbconvert_exporter": "python",
   "pygments_lexer": "ipython3",
   "version": "3.9.7"
  },
  "orig_nbformat": 4
 },
 "nbformat": 4,
 "nbformat_minor": 2
}
