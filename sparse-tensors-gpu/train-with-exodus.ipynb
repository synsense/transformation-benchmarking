{
 "cells": [
  {
   "cell_type": "code",
   "execution_count": 1,
   "metadata": {},
   "outputs": [],
   "source": [
    "import torch\n",
    "import torch.nn as nn\n",
    "import tonic\n",
    "from tonic import datasets, transforms\n",
    "import os\n",
    "import numpy as np\n",
    "from tqdm.auto import tqdm\n",
    "import sinabs.exodus.layers as sel\n",
    "import sinabs\n",
    "import sinabs.layers as sl\n",
    "import sinabs.activation as sa"
   ]
  },
  {
   "cell_type": "code",
   "execution_count": 2,
   "metadata": {},
   "outputs": [],
   "source": [
    "dt = 4000\n",
    "encoding_dim = 100\n",
    "\n",
    "transform = transforms.Compose([\n",
    "    transforms.Downsample(time_factor=1, spatial_factor=encoding_dim/700),\n",
    "    transforms.CropTime(max=1e6),\n",
    "    transforms.ToSparseTensor(sensor_size=(encoding_dim, 1, 1), time_window=dt, include_incomplete=True),\n",
    "])"
   ]
  },
  {
   "cell_type": "code",
   "execution_count": 3,
   "metadata": {},
   "outputs": [
    {
     "name": "stdout",
     "output_type": "stream",
     "text": [
      "This dataset has 8156 samples.\n"
     ]
    }
   ],
   "source": [
    "dataset = tonic.datasets.SHD('./data', transform=transform, target_transform=torch.tensor)\n",
    "print(f\"This dataset has {len(dataset)} samples.\")"
   ]
  },
  {
   "cell_type": "code",
   "execution_count": 4,
   "metadata": {},
   "outputs": [],
   "source": [
    "batch_size = 64\n",
    "\n",
    "disk_cached_dataset = tonic.DiskCachedDataset(\n",
    "            dataset=dataset,\n",
    "            cache_path=os.path.join(f\"cache/hsd/train/{encoding_dim}/{dt}\"),\n",
    "        )\n",
    "disk_cached_dataloader = torch.utils.data.DataLoader(\n",
    "    disk_cached_dataset, \n",
    "    batch_size=batch_size, \n",
    "    shuffle=True, \n",
    "    num_workers=4, \n",
    "    collate_fn=tonic.collation.PadTensors(batch_first=True), \n",
    "    drop_last=True\n",
    ")\n",
    "\n",
    "gpu_cached_dataset = tonic.MemoryCachedDataset(\n",
    "    dataset=dataset,\n",
    "    device=\"cuda\",\n",
    "    transform=lambda x: x.to_dense(),\n",
    ")\n",
    "gpu_cached_dataloader = torch.utils.data.DataLoader(\n",
    "    gpu_cached_dataset,\n",
    "    batch_size=batch_size,\n",
    "    collate_fn=tonic.collation.PadTensors(batch_first=True),\n",
    "    drop_last=True,\n",
    "    shuffle=True,\n",
    ")"
   ]
  },
  {
   "cell_type": "code",
   "execution_count": 5,
   "metadata": {},
   "outputs": [
    {
     "data": {
      "text/plain": [
       "127"
      ]
     },
     "execution_count": 5,
     "metadata": {},
     "output_type": "execute_result"
    }
   ],
   "source": [
    "len(gpu_cached_dataloader)"
   ]
  },
  {
   "cell_type": "code",
   "execution_count": 6,
   "metadata": {},
   "outputs": [],
   "source": [
    "# gpu_cached_dataset[0]"
   ]
  },
  {
   "cell_type": "code",
   "execution_count": 7,
   "metadata": {},
   "outputs": [],
   "source": [
    "# next(iter(gpu_cached_dataloader))"
   ]
  },
  {
   "cell_type": "code",
   "execution_count": 8,
   "metadata": {},
   "outputs": [],
   "source": [
    "class ExodusModel(nn.Sequential):\n",
    "    def __init__(self):\n",
    "        hidden_dim = 128\n",
    "\n",
    "        super().__init__(\n",
    "            nn.Linear(100, hidden_dim),\n",
    "            sel.IAF(),\n",
    "            nn.Linear(hidden_dim, hidden_dim),\n",
    "            sel.IAF(),\n",
    "            nn.Linear(hidden_dim, hidden_dim),\n",
    "            sel.IAF(),\n",
    "            nn.Linear(hidden_dim, 35),\n",
    "        )\n",
    "\n",
    "    def reset_states(self):\n",
    "        for layer in self.children():\n",
    "            if isinstance(layer, sl.StatefulLayer):\n",
    "                layer.reset_states()\n",
    "\n",
    "exodus_model = ExodusModel().cuda()"
   ]
  },
  {
   "cell_type": "code",
   "execution_count": 10,
   "metadata": {},
   "outputs": [
    {
     "data": {
      "application/vnd.jupyter.widget-view+json": {
       "model_id": "775e2695898a47248ec804958ad3a5d1",
       "version_major": 2,
       "version_minor": 0
      },
      "text/plain": [
       "  0%|          | 0/127 [00:00<?, ?it/s]"
      ]
     },
     "metadata": {},
     "output_type": "display_data"
    }
   ],
   "source": [
    "for data, target in tqdm(gpu_cached_dataloader):\n",
    "    exodus_model.reset_states()\n",
    "    exodus_model.zero_grad()\n",
    "    output = exodus_model(data)\n",
    "    output.sum().backward()"
   ]
  },
  {
   "cell_type": "code",
   "execution_count": null,
   "metadata": {},
   "outputs": [],
   "source": []
  }
 ],
 "metadata": {
  "interpreter": {
   "hash": "e6cb2531ff3209080f8ff5f4f1b83a3f6fd522559ade981afeb04664418b3902"
  },
  "kernelspec": {
   "display_name": "Python 3.9.7 ('slayer-comparison')",
   "language": "python",
   "name": "python3"
  },
  "language_info": {
   "codemirror_mode": {
    "name": "ipython",
    "version": 3
   },
   "file_extension": ".py",
   "mimetype": "text/x-python",
   "name": "python",
   "nbconvert_exporter": "python",
   "pygments_lexer": "ipython3",
   "version": "3.9.7"
  },
  "orig_nbformat": 4
 },
 "nbformat": 4,
 "nbformat_minor": 2
}
