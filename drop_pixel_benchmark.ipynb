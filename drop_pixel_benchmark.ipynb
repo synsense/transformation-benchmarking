{
 "cells": [
  {
   "cell_type": "code",
   "execution_count": 1,
   "id": "90c9b235-3e84-4820-a306-a931a2ebe1e9",
   "metadata": {},
   "outputs": [],
   "source": [
    "import tonic\n",
    "import numpy as np\n",
    "import timeit\n",
    "import matplotlib.pyplot as plt\n",
    "from tqdm.auto import tqdm"
   ]
  },
  {
   "cell_type": "code",
   "execution_count": 2,
   "id": "ffdd66bb-b14c-43aa-b0bf-749194a10865",
   "metadata": {},
   "outputs": [],
   "source": [
    "def create_random_input(\n",
    "    sensor_size=(200, 100, 2),\n",
    "    n_events=100000,\n",
    "    dtype=np.dtype([(\"x\", int), (\"y\", int), (\"t\", int), (\"p\", int)]),\n",
    "):\n",
    "    \"\"\"\n",
    "    Creates random events for testing purposes.\n",
    "    Returns\n",
    "    - events - 10k events\n",
    "    - sensor_size - 200 x 100 x 2 (w,h,pol)\n",
    "    \"\"\"\n",
    "\n",
    "    assert \"x\" and \"t\" and \"p\" in dtype.names\n",
    "\n",
    "    events = np.zeros(n_events, dtype=dtype)\n",
    "    events[\"x\"] = np.random.rand(n_events) * sensor_size[0]\n",
    "    events[\"p\"] = np.random.rand(n_events) * sensor_size[2]\n",
    "    # sort timestamps to ensure the times are sequential\n",
    "    events[\"t\"] = np.sort(np.random.rand(n_events) * 1e6)\n",
    "\n",
    "    if \"y\" in dtype.names:\n",
    "        events[\"y\"] = np.random.rand(n_events) * sensor_size[1]\n",
    "\n",
    "    return events, sensor_size"
   ]
  },
  {
   "cell_type": "code",
   "execution_count": 3,
   "id": "79550176-d758-4896-ac4b-c2e3cfaae7bd",
   "metadata": {},
   "outputs": [],
   "source": [
    "events, shape = create_random_input()"
   ]
  },
  {
   "cell_type": "code",
   "execution_count": 4,
   "id": "bdd2e152-b101-4bf8-b600-7c99b0ec46a6",
   "metadata": {},
   "outputs": [
    {
     "data": {
      "text/plain": [
       "array([( 36, 83,     21, 1), ( 96, 95,     52, 0), ( 18, 71,     70, 0),\n",
       "       ..., (  4, 11, 999961, 1), (115, 61, 999979, 0),\n",
       "       (140, 60, 999983, 1)],\n",
       "      dtype=[('x', '<i8'), ('y', '<i8'), ('t', '<i8'), ('p', '<i8')])"
      ]
     },
     "execution_count": 4,
     "metadata": {},
     "output_type": "execute_result"
    }
   ],
   "source": [
    "events"
   ]
  },
  {
   "cell_type": "code",
   "execution_count": 5,
   "id": "bfbb5114-49ce-466b-a127-34dc991cdf34",
   "metadata": {},
   "outputs": [
    {
     "data": {
      "text/plain": [
       "(100000,)"
      ]
     },
     "execution_count": 5,
     "metadata": {},
     "output_type": "execute_result"
    }
   ],
   "source": [
    "events.shape"
   ]
  },
  {
   "cell_type": "code",
   "execution_count": 6,
   "id": "0dab7e2e-420a-4429-9fef-0c2c2dee7650",
   "metadata": {},
   "outputs": [],
   "source": [
    "frame_transform = tonic.transforms.ToFrame(sensor_size=shape, n_time_bins=1000)\n",
    "\n",
    "def drop_pixel_in_frame(frames, pixel_coordinates, inplace=False):\n",
    "    if inplace:\n",
    "        frame_copy = frames\n",
    "    else:\n",
    "        frame_copy = frames.copy()\n",
    "    for (x,y) in pixel_coordinates:\n",
    "        frame_copy[:,:,x,y] = 0\n",
    "    return frame_copy"
   ]
  },
  {
   "cell_type": "markdown",
   "id": "43997945-f6f7-44ff-b86c-6df180caef6d",
   "metadata": {},
   "source": [
    "## Measure the time it takes to drop pixel coordinates from a numpy tensor, where events are encoded as frames/raster"
   ]
  },
  {
   "cell_type": "code",
   "execution_count": 7,
   "id": "f141c9cb-7d54-46fc-b2a6-2da9fb0a2c9e",
   "metadata": {},
   "outputs": [],
   "source": [
    "n_repetitions = 20\n",
    "n_pixels_dropped = np.arange(0,100)"
   ]
  },
  {
   "cell_type": "code",
   "execution_count": 8,
   "id": "b10f9d17-1f5b-49c9-85ea-fd853107bfa6",
   "metadata": {},
   "outputs": [
    {
     "data": {
      "application/vnd.jupyter.widget-view+json": {
       "model_id": "e8ff856805d9499bbab52175a27a1dfc",
       "version_major": 2,
       "version_minor": 0
      },
      "text/plain": [
       "  0%|          | 0/100 [00:00<?, ?it/s]"
      ]
     },
     "metadata": {},
     "output_type": "display_data"
    }
   ],
   "source": [
    "frame_timings = []\n",
    "for n_pixels in tqdm(n_pixels_dropped):\n",
    "    pixel_coordinates = [(53,37),]*n_pixels\n",
    "    frames = frame_transform(events)\n",
    "    result = timeit.Timer(lambda: drop_pixel_in_frame(frames, pixel_coordinates)).timeit((n_repetitions)) / n_repetitions\n",
    "    frame_timings.append(result*1000)"
   ]
  },
  {
   "cell_type": "code",
   "execution_count": 9,
   "id": "92a1994c-c82f-48c5-b35a-8ac3a61f99c5",
   "metadata": {},
   "outputs": [
    {
     "data": {
      "application/vnd.jupyter.widget-view+json": {
       "model_id": "2a3f556f5cea407ea446a98241bfaf5f",
       "version_major": 2,
       "version_minor": 0
      },
      "text/plain": [
       "  0%|          | 0/100 [00:00<?, ?it/s]"
      ]
     },
     "metadata": {},
     "output_type": "display_data"
    }
   ],
   "source": [
    "frame_timings_inplace = []\n",
    "for n_pixels in tqdm(n_pixels_dropped):\n",
    "    pixel_coordinates = [(53,37),]*n_pixels\n",
    "    frames = frame_transform(events)\n",
    "    result = timeit.Timer(lambda: drop_pixel_in_frame(frames, pixel_coordinates, inplace=True)).timeit((n_repetitions)) / n_repetitions\n",
    "    frame_timings_inplace.append(result*1000)"
   ]
  },
  {
   "cell_type": "markdown",
   "id": "31898d5b-f7fc-4ffa-8ed4-3c74ed08cace",
   "metadata": {},
   "source": [
    "## Measure the time it takes to drop pixel coordinates from a numpy array of events"
   ]
  },
  {
   "cell_type": "code",
   "execution_count": 10,
   "id": "93952985-15c8-4a23-ab49-2644e37e289a",
   "metadata": {},
   "outputs": [
    {
     "data": {
      "application/vnd.jupyter.widget-view+json": {
       "model_id": "4b38ad2d8ad744adb180819b6ab159c9",
       "version_major": 2,
       "version_minor": 0
      },
      "text/plain": [
       "  0%|          | 0/100 [00:00<?, ?it/s]"
      ]
     },
     "metadata": {},
     "output_type": "display_data"
    }
   ],
   "source": [
    "event_timings = []\n",
    "for n_pixels in tqdm(n_pixels_dropped):\n",
    "    pixel_coordinates = [(53,37),]*n_pixels\n",
    "    drop_pixels = tonic.transforms.DropPixel(pixel_coordinates)\n",
    "\n",
    "    result = timeit.Timer(lambda: drop_pixels(events)).timeit((n_repetitions)) / n_repetitions\n",
    "    event_timings.append(result*1000)"
   ]
  },
  {
   "cell_type": "code",
   "execution_count": null,
   "id": "9ced25b9-ea26-483f-bb23-0da8433eaa69",
   "metadata": {},
   "outputs": [],
   "source": [
    "plt.plot(n_pixels_dropped, event_timings, label=\"Pixels dropped directly from event numpy array\")\n",
    "plt.plot(n_pixels_dropped, frame_timings, label=\"Pixels dropped from copy of frames on CPU\")\n",
    "plt.plot(n_pixels_dropped, frame_timings_inplace, label=\"Pixels dropped from frames on CPU in-place\")\n",
    "plt.ylabel('miliseconds')\n",
    "plt.xlabel('number of events dropped')\n",
    "plt.legend()\n",
    "plt.savefig(\"drop_pixel_benchmark.png\")"
   ]
  },
  {
   "cell_type": "code",
   "execution_count": null,
   "id": "39a82d2a-a77e-47c8-bd59-673fd09b9f78",
   "metadata": {},
   "outputs": [],
   "source": []
  }
 ],
 "metadata": {
  "kernelspec": {
   "display_name": "Python 3 (ipykernel)",
   "language": "python",
   "name": "python3"
  },
  "language_info": {
   "codemirror_mode": {
    "name": "ipython",
    "version": 3
   },
   "file_extension": ".py",
   "mimetype": "text/x-python",
   "name": "python",
   "nbconvert_exporter": "python",
   "pygments_lexer": "ipython3",
   "version": "3.8.8"
  }
 },
 "nbformat": 4,
 "nbformat_minor": 5
}
